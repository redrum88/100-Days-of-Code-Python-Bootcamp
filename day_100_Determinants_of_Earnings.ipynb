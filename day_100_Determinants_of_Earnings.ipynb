{
  "nbformat": 4,
  "nbformat_minor": 0,
  "metadata": {
    "colab": {
      "provenance": [],
      "include_colab_link": true
    },
    "kernelspec": {
      "name": "python3",
      "display_name": "Python 3"
    }
  },
  "cells": [
    {
      "cell_type": "markdown",
      "metadata": {
        "id": "view-in-github",
        "colab_type": "text"
      },
      "source": [
        "<a href=\"https://colab.research.google.com/github/redrum88/100-Days-of-Code-Python-Bootcamp/blob/main/day_100_Determinants_of_Earnings.ipynb\" target=\"_parent\"><img src=\"https://colab.research.google.com/assets/colab-badge.svg\" alt=\"Open In Colab\"/></a>"
      ]
    },
    {
      "cell_type": "markdown",
      "metadata": {
        "id": "BHg0HZz-intQ"
      },
      "source": [
        "# Introduction"
      ]
    },
    {
      "cell_type": "markdown",
      "metadata": {
        "id": "V2RQkgAbiqJv"
      },
      "source": [
        "The National Longitudinal Survey of Youth 1997-2011 dataset is one of the most important databases available to social scientists working with US data. \n",
        "\n",
        "It allows scientists to look at the determinants of earnings as well as educational attainment and has incredible relevance for government policy. It can also shed light on politically sensitive issues like how different educational attainment and salaries are for people of different ethnicity, sex, and other factors. When we have a better understanding how these variables affect education and earnings we can also formulate more suitable government policies. \n",
        "\n",
        "<center><img src=https://i.imgur.com/cxBpQ3I.png height=400></center>\n"
      ]
    },
    {
      "cell_type": "markdown",
      "metadata": {
        "id": "YjCPWWUSirY_"
      },
      "source": [
        "### Upgrade Plotly"
      ]
    },
    {
      "cell_type": "code",
      "metadata": {
        "id": "v74l3QCGirIX",
        "colab": {
          "base_uri": "https://localhost:8080/"
        },
        "outputId": "1f9f77e6-5f95-4019-d445-507f6011ae77"
      },
      "source": [
        "%pip install --upgrade plotly"
      ],
      "execution_count": 1,
      "outputs": [
        {
          "output_type": "stream",
          "name": "stdout",
          "text": [
            "Looking in indexes: https://pypi.org/simple, https://us-python.pkg.dev/colab-wheels/public/simple/\n",
            "Requirement already satisfied: plotly in /usr/local/lib/python3.9/dist-packages (5.13.1)\n",
            "Requirement already satisfied: tenacity>=6.2.0 in /usr/local/lib/python3.9/dist-packages (from plotly) (8.2.2)\n"
          ]
        }
      ]
    },
    {
      "cell_type": "markdown",
      "metadata": {
        "id": "br_QkHBMjC1Q"
      },
      "source": [
        "###  Import Statements\n"
      ]
    },
    {
      "cell_type": "code",
      "metadata": {
        "id": "gSKZx-kwie_u"
      },
      "source": [
        "import pandas as pd\n",
        "import numpy as np\n",
        "\n",
        "import seaborn as sns\n",
        "import plotly.express as px\n",
        "import matplotlib.pyplot as plt\n",
        "\n",
        "from sklearn.linear_model import LinearRegression\n",
        "from sklearn.model_selection import train_test_split"
      ],
      "execution_count": 2,
      "outputs": []
    },
    {
      "cell_type": "markdown",
      "metadata": {
        "id": "9pgsrth_izCn"
      },
      "source": [
        "## Notebook Presentation"
      ]
    },
    {
      "cell_type": "code",
      "metadata": {
        "id": "Cgwu-WbBizqY"
      },
      "source": [
        "pd.options.display.float_format = '{:,.2f}'.format"
      ],
      "execution_count": 3,
      "outputs": []
    },
    {
      "cell_type": "markdown",
      "metadata": {
        "id": "E5bhysOOjLRr"
      },
      "source": [
        "# Load the Data\n",
        "\n"
      ]
    },
    {
      "cell_type": "code",
      "metadata": {
        "id": "6VngeTQwjM-X"
      },
      "source": [
        "df_data = pd.read_csv('NLSY97_subset.csv')"
      ],
      "execution_count": 5,
      "outputs": []
    },
    {
      "cell_type": "markdown",
      "metadata": {
        "id": "_ZjIBJ5jjrj0"
      },
      "source": [
        "### Understand the Dataset\n",
        "\n",
        "Have a look at the file entitled `NLSY97_Variable_Names_and_Descriptions.csv`. \n",
        "\n",
        "---------------------------\n",
        "\n",
        "    :Key Variables:  \n",
        "      1. S           Years of schooling (highest grade completed as of 2011)\n",
        "      2. EXP         Total out-of-school work experience (years) as of the 2011 interview.\n",
        "      3. EARNINGS    Current hourly earnings in $ reported at the 2011 interview"
      ]
    },
    {
      "cell_type": "markdown",
      "metadata": {
        "id": "8MkSxkjVnIfW"
      },
      "source": [
        "# Preliminary Data Exploration 🔎\n",
        "\n",
        "**Challenge**\n",
        "\n",
        "* What is the shape of `df_data`? \n",
        "* How many rows and columns does it have?\n",
        "* What are the column names?\n",
        "* Are there any NaN values or duplicates?"
      ]
    },
    {
      "cell_type": "code",
      "metadata": {
        "id": "V_cQguBbjwZv",
        "colab": {
          "base_uri": "https://localhost:8080/"
        },
        "outputId": "2fe58879-cdc6-439a-f836-f047d08d8635"
      },
      "source": [
        "print(f\"df_data shape: {df_data.shape}\")\n",
        "print(f\"Rows: {df_data.shape[0]}\")\n",
        "print(f\"Column: {df_data.shape[1]}\")\n",
        "print(f\"Column names: {df_data.columns}\")\n",
        "df_data.isna().sum()\n",
        "print(f\"Check duplicates: {df_data.duplicated().sum()}\")\n"
      ],
      "execution_count": 14,
      "outputs": [
        {
          "output_type": "stream",
          "name": "stdout",
          "text": [
            "df_data shape: (2000, 96)\n",
            "Rows: 2000\n",
            "Column: 96\n",
            "Column names: Index(['ID', 'EARNINGS', 'S', 'EXP', 'FEMALE', 'MALE', 'BYEAR', 'AGE',\n",
            "       'AGEMBTH', 'HHINC97', 'POVRAT97', 'HHBMBF', 'HHBMOF', 'HHOMBF',\n",
            "       'HHBMONLY', 'HHBFONLY', 'HHOTHER', 'MSA97NO', 'MSA97NCC', 'MSA97CC',\n",
            "       'MSA97NK', 'ETHBLACK', 'ETHHISP', 'ETHWHITE', 'EDUCPROF', 'EDUCPHD',\n",
            "       'EDUCMAST', 'EDUCBA', 'EDUCAA', 'EDUCHSD', 'EDUCGED', 'EDUCDO',\n",
            "       'PRMONM', 'PRMONF', 'PRMSTYUN', 'PRMSTYPE', 'PRMSTYAN', 'PRMSTYAE',\n",
            "       'PRFSTYUN', 'PRFSTYPE', 'PRFSTYAN', 'PRFSTYAE', 'SINGLE', 'MARRIED',\n",
            "       'COHABIT', 'OTHSING', 'FAITHN', 'FAITHP', 'FAITHC', 'FAITHJ', 'FAITHO',\n",
            "       'FAITHM', 'ASVABAR', 'ASVABWK', 'ASVABPC', 'ASVABMK', 'ASVABNO',\n",
            "       'ASVABCS', 'ASVABC', 'ASVABC4', 'VERBAL', 'ASVABMV', 'HEIGHT',\n",
            "       'WEIGHT04', 'WEIGHT11', 'SF', 'SM', 'SFR', 'SMR', 'SIBLINGS', 'REG97NE',\n",
            "       'REG97NC', 'REG97S', 'REG97W', 'RS97RURL', 'RS97URBN', 'RS97UNKN',\n",
            "       'JOBS', 'HOURS', 'TENURE', 'CATGOV', 'CATPRI', 'CATNPO', 'CATMIS',\n",
            "       'CATSE', 'COLLBARG', 'URBAN', 'REGNE', 'REGNC', 'REGW', 'REGS',\n",
            "       'MSA11NO', 'MSA11NCC', 'MSA11CC', 'MSA11NK', 'MSA11NIC'],\n",
            "      dtype='object')\n",
            "Check duplicates: 513\n"
          ]
        }
      ]
    },
    {
      "cell_type": "markdown",
      "metadata": {
        "id": "4itxqgP6nQj3"
      },
      "source": [
        "## Data Cleaning - Check for Missing Values and Duplicates\n",
        "\n",
        "Find and remove any duplicate rows."
      ]
    },
    {
      "cell_type": "code",
      "metadata": {
        "id": "J3DHEFXWnS2N",
        "colab": {
          "base_uri": "https://localhost:8080/"
        },
        "outputId": "a0e3edaf-8ad5-4a50-cdc7-88a9c47d1ce9"
      },
      "source": [
        "duplicates = df_data[df_data.duplicated()]\n",
        "print(\"Number of duplicate rows:\", duplicates.shape[0])\n",
        "df_data = df_data.drop_duplicates()\n",
        "print(\"df_data shape after removing duplicates:\", df_data.shape)\n",
        "\n",
        "# Fill numeric rows with the median\n",
        "for label, content in df_data.items():\n",
        "    if pd.api.types.is_numeric_dtype(content):\n",
        "        if pd.isnull(content).sum():\n",
        "            # Add a binary column which tells us if data was missing or not\n",
        "            df_data[label+\"_is_missing\"] = pd.isnull(content)\n",
        "            # Fill missing numeric values with median\n",
        "            df_data[label] = content.fillna(content.median())\n",
        "\n",
        "# Check if there's any null numeric values\n",
        "for label, content in df_data.items():\n",
        "    if pd.api.types.is_numeric_dtype(content):\n",
        "        if pd.isnull(content).sum():\n",
        "            print(label)\n",
        "\n",
        "# Turn categorical variables into numers and fill missing\n",
        "for label, content in df_data.items():\n",
        "    if not pd.api.types.is_numeric_dtype(content):\n",
        "        # Add binary column to indicate whether sample had missing value\n",
        "        df_data[label+\"_is_missing\"] = pd.isnull(content)\n",
        "        # Turn categories into numers and add +1\n",
        "        df_data[label] = pd.Categorical(content).codes+1\n",
        "        "
      ],
      "execution_count": 15,
      "outputs": [
        {
          "output_type": "stream",
          "name": "stdout",
          "text": [
            "Number of duplicate rows: 513\n",
            "df_data shape after removing duplicates: (1487, 96)\n"
          ]
        }
      ]
    },
    {
      "cell_type": "markdown",
      "metadata": {
        "id": "gGmBBPxZnVKC"
      },
      "source": [
        "## Descriptive Statistics"
      ]
    },
    {
      "cell_type": "code",
      "metadata": {
        "id": "I5VP2BMVnVrt",
        "colab": {
          "base_uri": "https://localhost:8080/"
        },
        "outputId": "80443e4b-aa98-48f2-9298-7405ea59e50e"
      },
      "source": [
        "numeric_cols = ['EARNINGS', 'AGE', 'AGEMBTH', 'HHINC97']\n",
        "desc_stats = df_data[numeric_cols].describe()\n",
        "educba_mode = df_data['EDUCBA'].mode()\n",
        "print(desc_stats)\n",
        "print(\"\\nMode for EDUCBA:\", educba_mode[0])"
      ],
      "execution_count": 16,
      "outputs": [
        {
          "output_type": "stream",
          "name": "stdout",
          "text": [
            "       EARNINGS      AGE  AGEMBTH    HHINC97\n",
            "count  1,487.00 1,487.00 1,453.00   1,205.00\n",
            "mean      18.81    28.93    26.32  58,310.67\n",
            "std       12.00     1.38     5.08  43,868.05\n",
            "min        2.00    27.00    12.00       0.00\n",
            "25%       11.41    28.00    23.00  32,000.00\n",
            "50%       15.75    29.00    26.00  50,500.00\n",
            "75%       22.60    30.00    30.00  72,000.00\n",
            "max      132.89    31.00    45.00 246,474.00\n",
            "\n",
            "Mode for EDUCBA: 0\n"
          ]
        }
      ]
    },
    {
      "cell_type": "markdown",
      "metadata": {
        "id": "ZO-86NXbnWSH"
      },
      "source": [
        "## Visualise the Features"
      ]
    },
    {
      "cell_type": "code",
      "metadata": {
        "id": "hFZJjbsKncPM",
        "colab": {
          "base_uri": "https://localhost:8080/",
          "height": 1000
        },
        "outputId": "1579b605-33de-460a-d8b7-6a1cfb74ef00"
      },
      "source": [
        "import matplotlib.pyplot as plt\n",
        "\n",
        "plt.rcParams['figure.figsize'] = (10,7)\n",
        "\n",
        "# Visualize the distribution of earnings using a histogram\n",
        "plt.hist(df_data['EARNINGS'], bins=50, color='green', alpha=0.7)\n",
        "plt.xlabel('Earnings')\n",
        "plt.ylabel('Frequency')\n",
        "plt.title('Distribution of Earnings')\n",
        "plt.grid(axis='y', alpha=0.75)\n",
        "plt.show()\n",
        "\n",
        "# Visualize the relationship between age and earnings using a scatterplot\n",
        "plt.scatter(df_data['AGE'], df_data['EARNINGS'], alpha=0.5, color='blue')\n",
        "plt.xlabel('Age')\n",
        "plt.ylabel('Earnings')\n",
        "plt.title('Relationship between Age and Earnings')\n",
        "plt.grid(alpha=0.5)\n",
        "plt.show()\n",
        "\n",
        "# Visualize the distribution of earnings by gender using a boxplot\n",
        "df_data.boxplot(column='EARNINGS', by='FEMALE', grid=False, showfliers=False, vert=False, widths=0.5)\n",
        "plt.xlabel('Earnings')\n",
        "plt.ylabel('Gender')\n",
        "plt.title('Distribution of Earnings by Gender')\n",
        "plt.show()"
      ],
      "execution_count": 18,
      "outputs": [
        {
          "output_type": "display_data",
          "data": {
            "text/plain": [
              "<Figure size 720x504 with 1 Axes>"
            ],
            "image/png": "[encoded data removed]"
          },
          "metadata": {
            "needs_background": "light"
          }
        },
        {
          "output_type": "display_data",
          "data": {
            "text/plain": [
              "<Figure size 720x504 with 1 Axes>"
            ],
            "image/png": "[encoded data removed]"
          },
          "metadata": {
            "needs_background": "light"
          }
        },
        {
          "output_type": "display_data",
          "data": {
            "text/plain": [
              "<Figure size 720x504 with 1 Axes>"
            ],
            "image/png": "[encoded data removed]"
          },
          "metadata": {
            "needs_background": "light"
          }
        }
      ]
    },
    {
      "cell_type": "markdown",
      "metadata": {
        "id": "9i4zHYG4nhDL"
      },
      "source": [
        "# Split Training & Test Dataset\n",
        "\n",
        "We *can't* use all the entries in our dataset to train our model. Keep 20% of the data for later as a testing dataset (out-of-sample data).  "
      ]
    },
    {
      "cell_type": "code",
      "metadata": {
        "id": "M_OfRSyunkA1",
        "colab": {
          "base_uri": "https://localhost:8080/"
        },
        "outputId": "5b7efcfd-543e-4d95-a93a-8026fb7ff112"
      },
      "source": [
        "# Split in to X, y\n",
        "X = df_data.drop(\"EARNINGS\", axis=1)\n",
        "y = df_data['EARNINGS'] # y\n",
        "\n",
        "# Make train and test datasets\n",
        "X_train, X_test, y_train, y_test = train_test_split(\n",
        "    X,\n",
        "    y,\n",
        "    test_size=0.2,\n",
        "    random_state=10)\n",
        "len(X_train), len(y_train), len(X_test), len(y_test)"
      ],
      "execution_count": 40,
      "outputs": [
        {
          "output_type": "execute_result",
          "data": {
            "text/plain": [
              "(1189, 1189, 298, 298)"
            ]
          },
          "metadata": {},
          "execution_count": 40
        }
      ]
    },
    {
      "cell_type": "markdown",
      "source": [
        "### Create evaluation function"
      ],
      "metadata": {
        "id": "g3xOWZqtGpiN"
      }
    },
    {
      "cell_type": "code",
      "source": [
        "# Create evaluation functions\n",
        "from sklearn.metrics import mean_squared_log_error, mean_absolute_error, r2_score\n",
        "\n",
        "def rmsle(y_test, y_preds):\n",
        "    # Calculates root mean squared log error between predictions and true labels.\n",
        "    return np.sqrt(mean_squared_log_error(y_test, y_preds))\n",
        "\n",
        "# Create function to evaluate model on a few different levels\n",
        "def show_scores(model):\n",
        "    train_preds = model.predict(X_train)\n",
        "    val_preds = model.predict(X_test)\n",
        "    scores = {\"Training MAE\": mean_absolute_error(y_train, train_preds),\n",
        "             \"Valid MAE\": mean_absolute_error(y_test, val_preds),\n",
        "             \"Training RMSLE\": rmsle(y_train, train_preds),\n",
        "             \"Valid RMSLE\": rmsle(y_test, val_preds),\n",
        "             \"Training R^2\": r2_score(y_train, train_preds),\n",
        "             \"Valid R^2\": r2_score(y_test, val_preds)}\n",
        "    return scores"
      ],
      "metadata": {
        "id": "mcq11vOwD69v"
      },
      "execution_count": 49,
      "outputs": []
    },
    {
      "cell_type": "markdown",
      "metadata": {
        "id": "EM99NOH0noFS"
      },
      "source": [
        "# Simple Linear Regression\n",
        "\n",
        "Only use the years of schooling to predict earnings. Use sklearn to run the regression on the training dataset. How high is the r-squared for the regression on the training data? "
      ]
    },
    {
      "cell_type": "code",
      "metadata": {
        "id": "J_MViuoNnvHf",
        "colab": {
          "base_uri": "https://localhost:8080/",
          "height": 75
        },
        "outputId": "fbf490ea-37e1-4340-b63b-b88f509a1c5a"
      },
      "source": [
        "# Let's build a machine learning model\n",
        "from sklearn.ensemble import RandomForestRegressor\n",
        "\n",
        "model = RandomForestRegressor(n_jobs=-1,\n",
        "                             random_state=42)\n",
        "\n",
        "model.fit(X_train, y_train)"
      ],
      "execution_count": 50,
      "outputs": [
        {
          "output_type": "execute_result",
          "data": {
            "text/plain": [
              "RandomForestRegressor(n_jobs=-1, random_state=42)"
            ],
            "text/html": [
              "<style>#sk-container-id-2 {color: black;background-color: white;}#sk-container-id-2 pre{padding: 0;}#sk-container-id-2 div.sk-toggleable {background-color: white;}#sk-container-id-2 label.sk-toggleable__label {cursor: pointer;display: block;width: 100%;margin-bottom: 0;padding: 0.3em;box-sizing: border-box;text-align: center;}#sk-container-id-2 label.sk-toggleable__label-arrow:before {content: \"▸\";float: left;margin-right: 0.25em;color: #696969;}#sk-container-id-2 label.sk-toggleable__label-arrow:hover:before {color: black;}#sk-container-id-2 div.sk-estimator:hover label.sk-toggleable__label-arrow:before {color: black;}#sk-container-id-2 div.sk-toggleable__content {max-height: 0;max-width: 0;overflow: hidden;text-align: left;background-color: #f0f8ff;}#sk-container-id-2 div.sk-toggleable__content pre {margin: 0.2em;color: black;border-radius: 0.25em;background-color: #f0f8ff;}#sk-container-id-2 input.sk-toggleable__control:checked~div.sk-toggleable__content {max-height: 200px;max-width: 100%;overflow: auto;}#sk-container-id-2 input.sk-toggleable__control:checked~label.sk-toggleable__label-arrow:before {content: \"▾\";}#sk-container-id-2 div.sk-estimator input.sk-toggleable__control:checked~label.sk-toggleable__label {background-color: #d4ebff;}#sk-container-id-2 div.sk-label input.sk-toggleable__control:checked~label.sk-toggleable__label {background-color: #d4ebff;}#sk-container-id-2 input.sk-hidden--visually {border: 0;clip: rect(1px 1px 1px 1px);clip: rect(1px, 1px, 1px, 1px);height: 1px;margin: -1px;overflow: hidden;padding: 0;position: absolute;width: 1px;}#sk-container-id-2 div.sk-estimator {font-family: monospace;background-color: #f0f8ff;border: 1px dotted black;border-radius: 0.25em;box-sizing: border-box;margin-bottom: 0.5em;}#sk-container-id-2 div.sk-estimator:hover {background-color: #d4ebff;}#sk-container-id-2 div.sk-parallel-item::after {content: \"\";width: 100%;border-bottom: 1px solid gray;flex-grow: 1;}#sk-container-id-2 div.sk-label:hover label.sk-toggleable__label {background-color: #d4ebff;}#sk-container-id-2 div.sk-serial::before {content: \"\";position: absolute;border-left: 1px solid gray;box-sizing: border-box;top: 0;bottom: 0;left: 50%;z-index: 0;}#sk-container-id-2 div.sk-serial {display: flex;flex-direction: column;align-items: center;background-color: white;padding-right: 0.2em;padding-left: 0.2em;position: relative;}#sk-container-id-2 div.sk-item {position: relative;z-index: 1;}#sk-container-id-2 div.sk-parallel {display: flex;align-items: stretch;justify-content: center;background-color: white;position: relative;}#sk-container-id-2 div.sk-item::before, #sk-container-id-2 div.sk-parallel-item::before {content: \"\";position: absolute;border-left: 1px solid gray;box-sizing: border-box;top: 0;bottom: 0;left: 50%;z-index: -1;}#sk-container-id-2 div.sk-parallel-item {display: flex;flex-direction: column;z-index: 1;position: relative;background-color: white;}#sk-container-id-2 div.sk-parallel-item:first-child::after {align-self: flex-end;width: 50%;}#sk-container-id-2 div.sk-parallel-item:last-child::after {align-self: flex-start;width: 50%;}#sk-container-id-2 div.sk-parallel-item:only-child::after {width: 0;}#sk-container-id-2 div.sk-dashed-wrapped {border: 1px dashed gray;margin: 0 0.4em 0.5em 0.4em;box-sizing: border-box;padding-bottom: 0.4em;background-color: white;}#sk-container-id-2 div.sk-label label {font-family: monospace;font-weight: bold;display: inline-block;line-height: 1.2em;}#sk-container-id-2 div.sk-label-container {text-align: center;}#sk-container-id-2 div.sk-container {/* jupyter's `normalize.less` sets `[hidden] { display: none; }` but bootstrap.min.css set `[hidden] { display: none !important; }` so we also need the `!important` here to be able to override the default hidden behavior on the sphinx rendered scikit-learn.org. See: https://github.com/scikit-learn/scikit-learn/issues/21755 */display: inline-block !important;position: relative;}#sk-container-id-2 div.sk-text-repr-fallback {display: none;}</style><div id=\"sk-container-id-2\" class=\"sk-top-container\"><div class=\"sk-text-repr-fallback\"><pre>RandomForestRegressor(n_jobs=-1, random_state=42)</pre><b>In a Jupyter environment, please rerun this cell to show the HTML representation or trust the notebook. <br />On GitHub, the HTML representation is unable to render, please try loading this page with nbviewer.org.</b></div><div class=\"sk-container\" hidden><div class=\"sk-item\"><div class=\"sk-estimator sk-toggleable\"><input class=\"sk-toggleable__control sk-hidden--visually\" id=\"sk-estimator-id-2\" type=\"checkbox\" checked><label for=\"sk-estimator-id-2\" class=\"sk-toggleable__label sk-toggleable__label-arrow\">RandomForestRegressor</label><div class=\"sk-toggleable__content\"><pre>RandomForestRegressor(n_jobs=-1, random_state=42)</pre></div></div></div></div></div>"
            ]
          },
          "metadata": {},
          "execution_count": 50
        }
      ]
    },
    {
      "cell_type": "code",
      "source": [
        "show_scores(model)"
      ],
      "metadata": {
        "colab": {
          "base_uri": "https://localhost:8080/"
        },
        "id": "M_nuBbb0D2Z4",
        "outputId": "a726267b-4d6b-4704-f5b7-3dcd24f7f647"
      },
      "execution_count": 51,
      "outputs": [
        {
          "output_type": "execute_result",
          "data": {
            "text/plain": [
              "{'Training MAE': 2.6025069806560133,\n",
              " 'Valid MAE': 6.69680033557047,\n",
              " 'Training RMSLE': 0.21311304451551755,\n",
              " 'Valid RMSLE': 0.4569288707281177,\n",
              " 'Training R^2': 0.8832305337758604,\n",
              " 'Valid R^2': 0.19212418245111662}"
            ]
          },
          "metadata": {},
          "execution_count": 51
        }
      ]
    },
    {
      "cell_type": "code",
      "source": [
        "import pandas as pd\n",
        "import numpy as np\n",
        "from sklearn.model_selection import train_test_split\n",
        "from sklearn.preprocessing import StandardScaler\n",
        "import tensorflow as tf\n",
        "\n",
        "# Step 1: Split into X and y\n",
        "X = df_data.drop(['EARNINGS'], axis=1).values\n",
        "y = df_data['EARNINGS'].values\n",
        "\n",
        "# Step 2: Normalize the input features\n",
        "scaler = StandardScaler()\n",
        "X = scaler.fit_transform(X)\n",
        "\n",
        "# Step 3: Split into training and testing sets\n",
        "X_train, X_test, y_train, y_test = train_test_split(X, y, test_size=0.2, random_state=42)\n",
        "\n",
        "\n",
        "# Create model\n",
        "model = tf.keras.Sequential([\n",
        "    tf.keras.layers.Dense(1, activation=\"relu\")\n",
        "])\n",
        "\n",
        "# Compile model\n",
        "model.compile(optimizer=tf.keras.optimizers.Adam(),\n",
        "              loss=tf.keras.losses.mse,\n",
        "              metrics=[\"mse\", \"mae\"])\n",
        "\n",
        "# Fit model\n",
        "model.fit(X_train, y_train,\n",
        "          epochs=15,\n",
        "          steps_per_epoch=len(X_train),\n",
        "          validation_data=(X_test, y_test),\n",
        "          validation_steps=len(X_test))"
      ],
      "metadata": {
        "colab": {
          "base_uri": "https://localhost:8080/"
        },
        "id": "2IvfzKprYTqD",
        "outputId": "9bacb4fb-75b0-4e2f-f46f-99cf4bba10d8"
      },
      "execution_count": 58,
      "outputs": [
        {
          "output_type": "stream",
          "name": "stdout",
          "text": [
            "Epoch 1/15\n",
            "1189/1189 [==============================] - 4s 3ms/step - loss: 457.2079 - mse: 457.2079 - mae: 17.6370 - val_loss: 418.7800 - val_mse: 418.7800 - val_mae: 17.0232\n",
            "Epoch 2/15\n",
            "1189/1189 [==============================] - 3s 2ms/step - loss: 383.4499 - mse: 383.4499 - mae: 15.8263 - val_loss: 355.6872 - val_mse: 355.6872 - val_mae: 15.2614\n",
            "Epoch 3/15\n",
            "1189/1189 [==============================] - 2s 2ms/step - loss: 327.1055 - mse: 327.1055 - mae: 14.1884 - val_loss: 313.8979 - val_mse: 313.8979 - val_mae: 14.0334\n",
            "Epoch 4/15\n",
            "1189/1189 [==============================] - 2s 2ms/step - loss: 293.5938 - mse: 293.5938 - mae: 13.1785 - val_loss: 290.6997 - val_mse: 290.6997 - val_mae: 13.2951\n",
            "Epoch 5/15\n",
            "1189/1189 [==============================] - 2s 2ms/step - loss: 274.7530 - mse: 274.7530 - mae: 12.6550 - val_loss: 277.8879 - val_mse: 277.8879 - val_mae: 12.8875\n",
            "Epoch 6/15\n",
            "1189/1189 [==============================] - 3s 3ms/step - loss: 263.3368 - mse: 263.3368 - mae: 12.3624 - val_loss: 268.8141 - val_mse: 268.8141 - val_mae: 12.5983\n",
            "Epoch 7/15\n",
            "1189/1189 [==============================] - 2s 2ms/step - loss: 254.7538 - mse: 254.7538 - mae: 12.1482 - val_loss: 261.8813 - val_mse: 261.8813 - val_mae: 12.3716\n",
            "Epoch 8/15\n",
            "1189/1189 [==============================] - 2s 2ms/step - loss: 247.3993 - mse: 247.3993 - mae: 11.9496 - val_loss: 255.7753 - val_mse: 255.7753 - val_mae: 12.1596\n",
            "Epoch 9/15\n",
            "1189/1189 [==============================] - 2s 2ms/step - loss: 240.2699 - mse: 240.2699 - mae: 11.7313 - val_loss: 248.6671 - val_mse: 248.6671 - val_mae: 11.9186\n",
            "Epoch 10/15\n",
            "1189/1189 [==============================] - 2s 2ms/step - loss: 232.8854 - mse: 232.8854 - mae: 11.5228 - val_loss: 241.0158 - val_mse: 241.0158 - val_mae: 11.6790\n",
            "Epoch 11/15\n",
            "1189/1189 [==============================] - 3s 3ms/step - loss: 225.4361 - mse: 225.4361 - mae: 11.2541 - val_loss: 233.2507 - val_mse: 233.2507 - val_mae: 11.4419\n",
            "Epoch 12/15\n",
            "1189/1189 [==============================] - 3s 3ms/step - loss: 218.1428 - mse: 218.1428 - mae: 11.0019 - val_loss: 225.1511 - val_mse: 225.1511 - val_mae: 11.2018\n",
            "Epoch 13/15\n",
            "1189/1189 [==============================] - 2s 2ms/step - loss: 210.8520 - mse: 210.8520 - mae: 10.7405 - val_loss: 216.9199 - val_mse: 216.9199 - val_mae: 10.9331\n",
            "Epoch 14/15\n",
            "1189/1189 [==============================] - 3s 2ms/step - loss: 202.9695 - mse: 202.9695 - mae: 10.4689 - val_loss: 207.6621 - val_mse: 207.6621 - val_mae: 10.6083\n",
            "Epoch 15/15\n",
            "1189/1189 [==============================] - 3s 2ms/step - loss: 194.6361 - mse: 194.6361 - mae: 10.1583 - val_loss: 198.7957 - val_mse: 198.7957 - val_mae: 10.2728\n"
          ]
        },
        {
          "output_type": "execute_result",
          "data": {
            "text/plain": [
              "<keras.callbacks.History at 0x7ffafeff38b0>"
            ]
          },
          "metadata": {},
          "execution_count": 58
        }
      ]
    },
    {
      "cell_type": "code",
      "source": [
        "model.evaluate(X_test, y_test)"
      ],
      "metadata": {
        "colab": {
          "base_uri": "https://localhost:8080/"
        },
        "id": "dHwnFrrwbnQ5",
        "outputId": "24913862-27d0-4bde-a300-e269d9cac000"
      },
      "execution_count": 59,
      "outputs": [
        {
          "output_type": "stream",
          "name": "stdout",
          "text": [
            "10/10 [==============================] - 0s 2ms/step - loss: 198.7957 - mse: 198.7957 - mae: 10.2728\n"
          ]
        },
        {
          "output_type": "execute_result",
          "data": {
            "text/plain": [
              "[198.7957000732422, 198.7957000732422, 10.2728271484375]"
            ]
          },
          "metadata": {},
          "execution_count": 59
        }
      ]
    },
    {
      "cell_type": "code",
      "source": [
        "X_test\n",
        "#model.predict()"
      ],
      "metadata": {
        "colab": {
          "base_uri": "https://localhost:8080/"
        },
        "id": "1PM1D0ulbzJE",
        "outputId": "9627d389-8441-42fb-aacb-43438645113e"
      },
      "execution_count": 61,
      "outputs": [
        {
          "output_type": "execute_result",
          "data": {
            "text/plain": [
              "array([[ 0.30553541,  0.52202404, -1.4174284 , ..., -0.49221169,\n",
              "        -0.19965004, -0.16194129],\n",
              "       [-1.27323206, -0.56313404,  0.01745522, ..., -0.49221169,\n",
              "        -0.19965004, -0.16194129],\n",
              "       [ 0.83311848, -0.20141468, -0.38673728, ..., -0.49221169,\n",
              "        -0.19965004, -0.16194129],\n",
              "       ...,\n",
              "       [-0.5709493 , -0.9248534 ,  1.44560117, ..., -0.49221169,\n",
              "        -0.19965004, -0.16194129],\n",
              "       [-0.54257927, -0.56313404,  1.0346731 , ...,  2.03164618,\n",
              "        -0.19965004, -0.16194129],\n",
              "       [ 0.27716537,  0.52202404, -1.33658997, ..., -0.49221169,\n",
              "        -0.19965004, -0.16194129]])"
            ]
          },
          "metadata": {},
          "execution_count": 61
        }
      ]
    },
    {
      "cell_type": "markdown",
      "metadata": {
        "id": "s2TeWKs7oJSa"
      },
      "source": [
        "### Evaluate the Coefficients of the Model\n",
        "\n",
        "Here we do a sense check on our regression coefficients. The first thing to look for is if the coefficients have the expected sign (positive or negative). \n",
        "\n",
        "Interpret the regression. How many extra dollars can one expect to earn for an additional year of schooling?"
      ]
    },
    {
      "cell_type": "code",
      "metadata": {
        "id": "QmhzZAmAoW4t",
        "colab": {
          "base_uri": "https://localhost:8080/",
          "height": 1000
        },
        "outputId": "81133880-2298-4432-b300-889d8607d21b"
      },
      "source": [
        "import matplotlib.pyplot as plt\n",
        "import numpy as np\n",
        "\n",
        "def visualize_predictions(model, X_test, y_test):\n",
        "    y_pred = model.predict(X_test)\n",
        "    plt.figure(figsize=(10, 7))\n",
        "    plt.scatter(y_test, y_pred, alpha=0.5)\n",
        "    plt.xlabel(\"Actual Earnings\")\n",
        "    plt.ylabel(\"Predicted Earnings\")\n",
        "    plt.title(\"Actual vs. Predicted Earnings\")\n",
        "    plt.show()\n",
        "    residuals = y_test - y_pred\n",
        "    plt.figure(figsize=(10, 7))\n",
        "    plt.hist(residuals, bins=20, alpha=0.5)\n",
        "    plt.xlabel(\"Residuals\")\n",
        "    plt.ylabel(\"Frequency\")\n",
        "    plt.title(\"Histogram of Residuals\")\n",
        "    plt.show()\n",
        "    plt.figure(figsize=(10, 7))\n",
        "    plt.scatter(y_pred, residuals, alpha=0.5)\n",
        "    plt.xlabel(\"Predicted Earnings\")\n",
        "    plt.ylabel(\"Residuals\")\n",
        "    plt.title(\"Residuals vs. Predicted Earnings\")\n",
        "    plt.show()\n",
        "    print(\"Mean Absolute Error:\", round(np.mean(np.abs(residuals)), 2))\n",
        "    print(\"Root Mean Squared Error:\", round(np.sqrt(np.mean(residuals ** 2)), 2))\n",
        "\n",
        "visualize_predictions(model, X_test, y_test)\n"
      ],
      "execution_count": 53,
      "outputs": [
        {
          "output_type": "display_data",
          "data": {
            "text/plain": [
              "<Figure size 720x504 with 1 Axes>"
            ],
            "image/png": "[encoded data removed]"
          },
          "metadata": {
            "needs_background": "light"
          }
        },
        {
          "output_type": "display_data",
          "data": {
            "text/plain": [
              "<Figure size 720x504 with 1 Axes>"
            ],
            "image/png": "[encoded data removed]"
          },
          "metadata": {
            "needs_background": "light"
          }
        },
        {
          "output_type": "display_data",
          "data": {
            "text/plain": [
              "<Figure size 720x504 with 1 Axes>"
            ],
            "image/png": "[encoded data removed]"
          },
          "metadata": {
            "needs_background": "light"
          }
        },
        {
          "output_type": "stream",
          "name": "stdout",
          "text": [
            "Mean Absolute Error: 6.7\n",
            "Root Mean Squared Error: 10.78\n"
          ]
        }
      ]
    },
    {
      "cell_type": "code",
      "metadata": {
        "id": "e9hpdAt3oWnq",
        "colab": {
          "base_uri": "https://localhost:8080/"
        },
        "outputId": "df10b4a1-132f-48b8-ba78-97bb52dc1a92"
      },
      "source": [
        "# Get feature importances\n",
        "importances = model.feature_importances_\n",
        "\n",
        "# Sort feature importances in descending order\n",
        "indices = np.argsort(importances)[::-1]\n",
        "\n",
        "# Print the feature rankings\n",
        "for f in range(X.shape[1]):\n",
        "    print(f\"{f+1}. {X.columns[indices[f]]}: {importances[indices[f]]}\")"
      ],
      "execution_count": 54,
      "outputs": [
        {
          "output_type": "stream",
          "name": "stdout",
          "text": [
            "1. ASVABCS: 0.07814631831794909\n",
            "2. ASVABMK: 0.06457381311805381\n",
            "3. HOURS: 0.06206758565332441\n",
            "4. TENURE: 0.055647623339394124\n",
            "5. S: 0.04997727219109627\n",
            "6. ASVABAR: 0.04723794874063895\n",
            "7. HHINC97: 0.04662724388011531\n",
            "8. EXP: 0.04390053559339775\n",
            "9. ID: 0.04369166405727459\n",
            "10. CATSE: 0.03906062249791287\n",
            "11. EDUCPROF: 0.02353824125882327\n",
            "12. ASVABWK: 0.023470092311442342\n",
            "13. WEIGHT11: 0.02222926936366332\n",
            "14. HEIGHT: 0.020908967157348073\n",
            "15. ASVABNO: 0.020525618206228287\n",
            "16. POVRAT97: 0.02016905362254553\n",
            "17. JOBS: 0.019184715135336795\n",
            "18. WEIGHT04: 0.017766069206290477\n",
            "19. ASVABMV: 0.01626378966612586\n",
            "20. AGEMBTH: 0.015544124298602776\n",
            "21. ASVABPC: 0.01459482189273855\n",
            "22. VERBAL: 0.014056357398420039\n",
            "23. SFR: 0.013260368638517874\n",
            "24. PRMONM: 0.013040215246669871\n",
            "25. COLLBARG: 0.01229600574228278\n",
            "26. ASVABC4: 0.011801652911177619\n",
            "27. PRMONF: 0.01057847745911617\n",
            "28. ASVABC: 0.010302490873360824\n",
            "29. SF: 0.009656118307111154\n",
            "30. SIBLINGS: 0.009217284487670863\n",
            "31. BYEAR: 0.007947561768022306\n",
            "32. SM: 0.007430550934929946\n",
            "33. AGE: 0.007240929602022541\n",
            "34. SMR: 0.006792282259426734\n",
            "35. MARRIED: 0.0057331364792110725\n",
            "36. MALE: 0.004481631239376882\n",
            "37. REGS: 0.004280647318493927\n",
            "38. CATPRI: 0.004212665822855604\n",
            "39. FAITHC: 0.0038696701681979594\n",
            "40. MSA11CC: 0.003673199553492199\n",
            "41. FAITHO: 0.0035048458731600446\n",
            "42. PRMSTYPE: 0.003043412643979193\n",
            "43. JOBS_is_missing: 0.002998968516101504\n",
            "44. MSA11NCC: 0.002996829316720204\n",
            "45. MSA11NK: 0.002888295809397631\n",
            "46. SINGLE: 0.0028712088695552053\n",
            "47. PRFSTYPE: 0.002740184027657323\n",
            "48. REG97W: 0.002735525982820157\n",
            "49. URBAN: 0.002680043968851217\n",
            "50. MSA97NCC: 0.0025931464111716984\n",
            "51. REGNC: 0.002347253593179003\n",
            "52. EDUCAA: 0.002318278169742843\n",
            "53. COHABIT: 0.0022830130716931306\n",
            "54. REG97NE: 0.0022377320725220484\n",
            "55. EDUCHSD: 0.00218402945676281\n",
            "56. EDUCBA: 0.0021759806627166824\n",
            "57. EDUCMAST: 0.002175406340984879\n",
            "58. FEMALE: 0.0020951580738788464\n",
            "59. MSA97CC: 0.0018387542656327443\n",
            "60. FAITHP: 0.0018260051425830629\n",
            "61. PRMSTYAE: 0.0017075093417344572\n",
            "62. HHBMBF: 0.0016675710182603555\n",
            "63. MSA11NO: 0.0015837716573566711\n",
            "64. REG97NC: 0.001495930043576166\n",
            "65. REGNE: 0.0014905896589423747\n",
            "66. PRMSTYUN: 0.001434622238057156\n",
            "67. ETHHISP: 0.0014205364213485104\n",
            "68. POVRAT97_is_missing: 0.0013665126404667999\n",
            "69. EDUCPHD: 0.0013558679783086719\n",
            "70. PRMSTYAN: 0.0013304457522822512\n",
            "71. FAITHN: 0.0013239444101298026\n",
            "72. PRFSTYAE: 0.001320862937576603\n",
            "73. RS97URBN: 0.0012981089153794255\n",
            "74. MSA97NO: 0.0012832002454206026\n",
            "75. PRMONM_is_missing: 0.001194037791257621\n",
            "76. CATNPO: 0.0011924703105402144\n",
            "77. PRMSTYPE_is_missing: 0.0011217935860829596\n",
            "78. CATMIS: 0.001120059624518575\n",
            "79. PRMONF_is_missing: 0.0010636430827590125\n",
            "80. REGW: 0.0010523621118111246\n",
            "81. PRMSTYAE_is_missing: 0.0010331211523597007\n",
            "82. RS97RURL: 0.0010107130264212657\n",
            "83. REG97S: 0.0009908728196032569\n",
            "84. PRFSTYAN_is_missing: 0.0009863303547971202\n",
            "85. PRFSTYUN: 0.0009619953140418147\n",
            "86. PRMSTYUN_is_missing: 0.0008947540617995476\n",
            "87. ETHBLACK: 0.0008705389700705739\n",
            "88. PRFSTYAE_is_missing: 0.0008443922859023309\n",
            "89. CATGOV: 0.0008056842307176817\n",
            "90. ETHWHITE: 0.0008008127245176888\n",
            "91. HHBMONLY: 0.000777269309393337\n",
            "92. FAITHM: 0.0007429094568634952\n",
            "93. HHBMOF: 0.0007136145125725829\n",
            "94. SFR_is_missing: 0.0006767594060996825\n",
            "95. PRFSTYPE_is_missing: 0.0005732028280902889\n",
            "96. PRMSTYAN_is_missing: 0.0005640140675760945\n",
            "97. PRFSTYUN_is_missing: 0.0005504722867311776\n",
            "98. PRFSTYAN: 0.0005172012178438238\n",
            "99. FAITHJ: 0.00043650868457568005\n",
            "100. HHINC97_is_missing: 0.0004194097251868875\n",
            "101. HHOTHER: 0.00041470458137351845\n",
            "102. SMR_is_missing: 0.0003806778516321574\n",
            "103. OTHSING: 0.00033464598821302574\n",
            "104. AGEMBTH_is_missing: 0.00033317916749047203\n",
            "105. HHOMBF: 0.000271379076633614\n",
            "106. EDUCGED: 0.0002472862549775548\n",
            "107. HHBFONLY: 0.00019255917549815084\n",
            "108. MSA97NK: 0.00016998840532274608\n",
            "109. EDUCDO: 0.00013045531011632267\n",
            "110. RS97UNKN: 0.0\n",
            "111. MSA11NIC: 0.0\n"
          ]
        }
      ]
    },
    {
      "cell_type": "markdown",
      "metadata": {
        "id": "WIyMPXXYobx8"
      },
      "source": [
        "### Analyse the Estimated Values & Regression Residuals\n",
        "\n",
        "How good our regression is also depends on the residuals - the difference between the model's predictions ( 𝑦̂ 𝑖 ) and the true values ( 𝑦𝑖 ) inside y_train. Do you see any patterns in the distribution of the residuals?"
      ]
    },
    {
      "cell_type": "code",
      "metadata": {
        "id": "khkgscweosP_"
      },
      "source": [],
      "execution_count": null,
      "outputs": []
    },
    {
      "cell_type": "code",
      "metadata": {
        "id": "m_diDXSXotm6"
      },
      "source": [],
      "execution_count": null,
      "outputs": []
    },
    {
      "cell_type": "code",
      "metadata": {
        "id": "6DfAEUWNosHd"
      },
      "source": [],
      "execution_count": null,
      "outputs": []
    },
    {
      "cell_type": "markdown",
      "metadata": {
        "id": "zNBuJ1iBnvpl"
      },
      "source": [
        "# Multivariable Regression\n",
        "\n",
        "Now use both years of schooling and the years work experience to predict earnings. How high is the r-squared for the regression on the training data? "
      ]
    },
    {
      "cell_type": "code",
      "metadata": {
        "id": "Ihq-C4looCSM"
      },
      "source": [],
      "execution_count": null,
      "outputs": []
    },
    {
      "cell_type": "code",
      "metadata": {
        "id": "dRhB7Iwboyfq"
      },
      "source": [],
      "execution_count": null,
      "outputs": []
    },
    {
      "cell_type": "markdown",
      "metadata": {
        "id": "nHDtunM0oyuk"
      },
      "source": [
        "### Evaluate the Coefficients of the Model"
      ]
    },
    {
      "cell_type": "code",
      "metadata": {
        "id": "5vasqInIoydB"
      },
      "source": [],
      "execution_count": null,
      "outputs": []
    },
    {
      "cell_type": "markdown",
      "metadata": {
        "id": "Yv8q90IYou2Q"
      },
      "source": [
        "### Analyse the Estimated Values & Regression Residuals"
      ]
    },
    {
      "cell_type": "code",
      "metadata": {
        "id": "8NmXnsxfowkI"
      },
      "source": [],
      "execution_count": null,
      "outputs": []
    },
    {
      "cell_type": "code",
      "metadata": {
        "id": "0ZZ1e0spo5o1"
      },
      "source": [],
      "execution_count": null,
      "outputs": []
    },
    {
      "cell_type": "markdown",
      "metadata": {
        "id": "YWNeoqPLpjVb"
      },
      "source": [
        "# Use Your Model to Make a Prediction\n",
        "\n",
        "How much can someone with a bachelors degree (12 + 4) years of schooling and 5 years work experience expect to earn in 2011?"
      ]
    },
    {
      "cell_type": "code",
      "metadata": {
        "id": "Mof-14lCpv60"
      },
      "source": [],
      "execution_count": null,
      "outputs": []
    },
    {
      "cell_type": "code",
      "metadata": {
        "id": "3htX8_SBpvyb"
      },
      "source": [],
      "execution_count": null,
      "outputs": []
    },
    {
      "cell_type": "markdown",
      "metadata": {
        "id": "TIYI-eQepDSQ"
      },
      "source": [
        "# Experiment and Investigate Further\n",
        "\n",
        "Which other features could you consider adding to further improve the regression to better predict earnings? "
      ]
    },
    {
      "cell_type": "code",
      "metadata": {
        "id": "sd07-pKopJgo"
      },
      "source": [],
      "execution_count": null,
      "outputs": []
    },
    {
      "cell_type": "code",
      "metadata": {
        "id": "Fohe2-Rdp1MO"
      },
      "source": [],
      "execution_count": null,
      "outputs": []
    }
  ]
}